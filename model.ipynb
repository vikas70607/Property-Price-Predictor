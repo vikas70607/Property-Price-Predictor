{
 "cells": [
  {
   "cell_type": "code",
   "execution_count": 2,
   "metadata": {},
   "outputs": [],
   "source": [
    "import numpy as np\n",
    "import matplotlib.pyplot as plt\n",
    "import pandas as pd"
   ]
  },
  {
   "cell_type": "markdown",
   "metadata": {},
   "source": [
    "## Loding data using pandas and showing 10 initial rows"
   ]
  },
  {
   "cell_type": "code",
   "execution_count": 3,
   "metadata": {},
   "outputs": [
    {
     "name": "stdout",
     "output_type": "stream",
     "text": [
      "           0   1    2               3   \\\n",
      "0       800.0   3  2.0  Semi-Furnished   \n",
      "1       750.0   2  2.0  Semi-Furnished   \n",
      "2       950.0   2  2.0       Furnished   \n",
      "3       600.0   2  2.0  Semi-Furnished   \n",
      "4       650.0   2  2.0  Semi-Furnished   \n",
      "...       ...  ..  ...             ...   \n",
      "1254   4118.0   4  5.0     Unfurnished   \n",
      "1255   1050.0   3  2.0  Semi-Furnished   \n",
      "1256    875.0   3  3.0  Semi-Furnished   \n",
      "1257    990.0   2  2.0     Unfurnished   \n",
      "1258  11050.0   3  3.0     Unfurnished   \n",
      "\n",
      "                                                     4    5         6   \\\n",
      "0                                      Rohini Sector 25  1.0   6500000   \n",
      "1                J R Designers Floors, Rohini Sector 24  1.0   5000000   \n",
      "2                   Citizen Apartment, Rohini Sector 13  1.0  15500000   \n",
      "3                                      Rohini Sector 24  1.0   4200000   \n",
      "4     Rohini Sector 24 carpet area 650 sqft status R...  1.0   6200000   \n",
      "...                                                 ...  ...       ...   \n",
      "1254                                  Chittaranjan Park  3.0  55000000   \n",
      "1255                                  Chittaranjan Park  3.0  12500000   \n",
      "1256                                  Chittaranjan Park  3.0  17500000   \n",
      "1257                          Chittaranjan Park Block A  1.0  11500000   \n",
      "1258                                  Chittaranjan Park  1.0  18500000   \n",
      "\n",
      "                 7             8              9        10  \n",
      "0     Ready_to_move  New_Property  Builder_Floor      NaN  \n",
      "1     Ready_to_move  New_Property      Apartment   6667.0  \n",
      "2     Ready_to_move        Resale      Apartment   6667.0  \n",
      "3     Ready_to_move        Resale  Builder_Floor   6667.0  \n",
      "4     Ready_to_move  New_Property  Builder_Floor   6667.0  \n",
      "...             ...           ...            ...      ...  \n",
      "1254  Ready_to_move  New_Property  Builder_Floor  12916.0  \n",
      "1255  Ready_to_move        Resale  Builder_Floor  12916.0  \n",
      "1256  Ready_to_move  New_Property  Builder_Floor  12916.0  \n",
      "1257  Ready_to_move        Resale  Builder_Floor  12916.0  \n",
      "1258  Ready_to_move  New_Property  Builder_Floor  12916.0  \n",
      "\n",
      "[1259 rows x 11 columns]\n"
     ]
    }
   ],
   "source": [
    "\n",
    "data = pd.read_csv(\"MagicBricks.csv\", header=None)\n",
    "print(data)"
   ]
  },
  {
   "cell_type": "markdown",
   "metadata": {},
   "source": [
    "## Estimating slope and intercept for Linear regression"
   ]
  },
  {
   "cell_type": "code",
   "execution_count": 4,
   "metadata": {},
   "outputs": [],
   "source": [
    "def estimate_coef(x, y):\n",
    "    # number of observations/points\n",
    "    n = np.size(x)\n",
    "  \n",
    "    # mean of x and y vector\n",
    "    m_x = np.mean(x)\n",
    "    m_y = np.mean(y)\n",
    "  \n",
    "    # calculating cross-deviation and deviation about x\n",
    "    SS_xy = np.sum(y*x) - n*m_y*m_x\n",
    "    SS_xx = np.sum(x*x) - n*m_x*m_x\n",
    "  \n",
    "    # calculating regression coefficients\n",
    "    b_1 = SS_xy / SS_xx\n",
    "    b_0 = m_y - b_1*m_x\n",
    "  \n",
    "    return (b_0, b_1)"
   ]
  },
  {
   "cell_type": "markdown",
   "metadata": {},
   "source": [
    "## Fucntion for plotting points and regression  "
   ]
  },
  {
   "cell_type": "code",
   "execution_count": 5,
   "metadata": {},
   "outputs": [],
   "source": [
    "def plot_regression_line(x, y, b):\n",
    "    \n",
    "    # plt.xticks(np.arange(0,1200,step=100))\n",
    "    # plt.yticks(np.arange(0,1000000000,step=1000000))\n",
    "\n",
    "    #Labeling\n",
    "    plt.xlabel(\"Area in Sq. feet\")\n",
    "    plt.ylabel(\"Prices\")\n",
    "    # plotting the actual points as scatter plot\n",
    "    plt.scatter(x, y, color = \"m\",\n",
    "               marker = \"o\", s = 30)\n",
    "  \n",
    "    # predicted response vector\n",
    "    y_pred = b[0] + b[1]*x\n",
    "  \n",
    "    # plotting the regression line\n",
    "    plt.plot(x, y_pred, color = \"g\")\n",
    "  \n",
    "    # putting labels\n",
    "    \n",
    "  \n",
    "    # function to show plot\n",
    "    plt.show()"
   ]
  },
  {
   "cell_type": "markdown",
   "metadata": {},
   "source": [
    "## Driver code"
   ]
  },
  {
   "cell_type": "code",
   "execution_count": 6,
   "metadata": {},
   "outputs": [
    {
     "name": "stdout",
     "output_type": "stream",
     "text": [
      "Estimated coefficients:\n",
      "b_0 = -21567068.77717902        \n",
      "b_1 = 15330326.495446859\n"
     ]
    },
    {
     "data": {
      "image/png": "[encoded data removed]",
      "text/plain": [
       "<Figure size 640x480 with 1 Axes>"
      ]
     },
     "metadata": {},
     "output_type": "display_data"
    }
   ],
   "source": [
    "\n",
    "# observations / data\n",
    "x = data[1]\n",
    "y = data[6]\n",
    "  \n",
    "# estimating coefficients\n",
    "b = estimate_coef(x, y)\n",
    "print(\"Estimated coefficients:\\nb_0 = {}  \\\n",
    "      \\nb_1 = {}\".format(b[0], b[1]))\n",
    "  \n",
    "# plotting regression line\n",
    "plot_regression_line(x, y, b)\n"
   ]
  },
  {
   "cell_type": "markdown",
   "metadata": {},
   "source": [
    "## Prediction"
   ]
  },
  {
   "cell_type": "code",
   "execution_count": 8,
   "metadata": {},
   "outputs": [
    {
     "name": "stdout",
     "output_type": "stream",
     "text": [
      "The property with Area500 is worth 7643596178.946251\n",
      "The property with Area350 is worth 5344047204.629222\n"
     ]
    }
   ],
   "source": [
    "Area_1 = 500\n",
    "Price_1 = b[0] + b[1]*Area_1\n",
    "\n",
    "Area_2 = 350\n",
    "Price_2 = b[0] + b[1]*Area_2\n",
    "\n",
    "print(f\"The property with Area{Area_1} is worth {Price_1}\")\n",
    "print(f\"The property with Area{Area_2} is worth {Price_2}\")\n",
    "\n"
   ]
  }
 ],
 "metadata": {
  "kernelspec": {
   "display_name": "Python 3.10.7 64-bit",
   "language": "python",
   "name": "python3"
  },
  "language_info": {
   "codemirror_mode": {
    "name": "ipython",
    "version": 3
   },
   "file_extension": ".py",
   "mimetype": "text/x-python",
   "name": "python",
   "nbconvert_exporter": "python",
   "pygments_lexer": "ipython3",
   "version": "3.10.7"
  },
  "orig_nbformat": 4,
  "vscode": {
   "interpreter": {
    "hash": "d443661417808ba15ac0fa6808c4aeae1dc376f4e1a878b9569c70609014ccb5"
   }
  }
 },
 "nbformat": 4,
 "nbformat_minor": 2
}
